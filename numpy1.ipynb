{
  "cells": [
    {
      "cell_type": "code",
      "execution_count": 1,
      "id": "3e764b2b-e366-4333-86a0-a5495a7b46c9",
      "metadata": {
        "id": "3e764b2b-e366-4333-86a0-a5495a7b46c9"
      },
      "outputs": [],
      "source": [
        "import numpy as np\n",
        "import random"
      ]
    },
    {
      "cell_type": "markdown",
      "id": "fbd22c07-cba0-4bbf-bf2f-d57db449157e",
      "metadata": {
        "id": "fbd22c07-cba0-4bbf-bf2f-d57db449157e"
      },
      "source": [
        "Creating numpy arrays"
      ]
    },
    {
      "cell_type": "code",
      "execution_count": 59,
      "id": "2761ca9c-d89e-4315-95b2-4a7d06a33efa",
      "metadata": {
        "id": "2761ca9c-d89e-4315-95b2-4a7d06a33efa"
      },
      "outputs": [],
      "source": [
        "#Creating an array with random integers\n",
        "arr1=np.random.randint(1,50,4)"
      ]
    },
    {
      "cell_type": "code",
      "execution_count": 60,
      "id": "5c24d411-7424-411c-a99c-1bb56416c661",
      "metadata": {
        "colab": {
          "base_uri": "https://localhost:8080/"
        },
        "id": "5c24d411-7424-411c-a99c-1bb56416c661",
        "outputId": "6622f6e0-c4e8-4c98-96c8-1d169e454bf2"
      },
      "outputs": [
        {
          "output_type": "execute_result",
          "data": {
            "text/plain": [
              "array([47, 26,  1,  3])"
            ]
          },
          "metadata": {},
          "execution_count": 60
        }
      ],
      "source": [
        "arr1"
      ]
    },
    {
      "cell_type": "code",
      "source": [],
      "metadata": {
        "id": "bCPlI3nWLE6Y"
      },
      "id": "bCPlI3nWLE6Y",
      "execution_count": null,
      "outputs": []
    },
    {
      "cell_type": "code",
      "execution_count": 61,
      "id": "0f317964-d8d8-41e9-a251-0e1340e18389",
      "metadata": {
        "id": "0f317964-d8d8-41e9-a251-0e1340e18389"
      },
      "outputs": [],
      "source": [
        "#Creating an array with random integers\n",
        "arr2=np.random.randint(1,50,4)"
      ]
    },
    {
      "cell_type": "code",
      "execution_count": 62,
      "id": "b0250708-6032-4104-a671-9242daef0a82",
      "metadata": {
        "colab": {
          "base_uri": "https://localhost:8080/"
        },
        "id": "b0250708-6032-4104-a671-9242daef0a82",
        "outputId": "2e601f75-d326-4f25-de0d-f5d97d83714c"
      },
      "outputs": [
        {
          "output_type": "execute_result",
          "data": {
            "text/plain": [
              "array([32, 24, 13, 25])"
            ]
          },
          "metadata": {},
          "execution_count": 62
        }
      ],
      "source": [
        "arr2"
      ]
    },
    {
      "cell_type": "markdown",
      "id": "16d07a9b-2d41-4daa-aa58-537b70b6793c",
      "metadata": {
        "id": "16d07a9b-2d41-4daa-aa58-537b70b6793c"
      },
      "source": [
        "Basic Operations on arrays"
      ]
    },
    {
      "cell_type": "code",
      "execution_count": 63,
      "id": "d8a11c9e-5e4b-421b-8414-6259b913e8f0",
      "metadata": {
        "colab": {
          "base_uri": "https://localhost:8080/"
        },
        "id": "d8a11c9e-5e4b-421b-8414-6259b913e8f0",
        "outputId": "67e2c376-e1cd-4cc5-b789-3bd1f56eb8cb"
      },
      "outputs": [
        {
          "output_type": "execute_result",
          "data": {
            "text/plain": [
              "1"
            ]
          },
          "metadata": {},
          "execution_count": 63
        }
      ],
      "source": [
        "#Return no.of dimensions(axes) of the array\n",
        "arr1.ndim"
      ]
    },
    {
      "cell_type": "code",
      "execution_count": 64,
      "id": "7311bb49-6543-4e4b-bcf4-6be95733f3b7",
      "metadata": {
        "colab": {
          "base_uri": "https://localhost:8080/"
        },
        "id": "7311bb49-6543-4e4b-bcf4-6be95733f3b7",
        "outputId": "4d81c7cb-eae8-4d09-fe77-c9277725df6f"
      },
      "outputs": [
        {
          "output_type": "execute_result",
          "data": {
            "text/plain": [
              "(4,)"
            ]
          },
          "metadata": {},
          "execution_count": 64
        }
      ],
      "source": [
        "#Returns the tuple of integers indicating the size of array in each dimension\n",
        "arr1.shape"
      ]
    },
    {
      "cell_type": "code",
      "execution_count": 65,
      "id": "a6e3cba7-0dd3-45a0-a529-8dcb1a53f5bb",
      "metadata": {
        "colab": {
          "base_uri": "https://localhost:8080/"
        },
        "id": "a6e3cba7-0dd3-45a0-a529-8dcb1a53f5bb",
        "outputId": "c265b7cf-d9e1-40cb-f8df-95f0efe50de8"
      },
      "outputs": [
        {
          "output_type": "execute_result",
          "data": {
            "text/plain": [
              "4"
            ]
          },
          "metadata": {},
          "execution_count": 65
        }
      ],
      "source": [
        "#Returns the size of the array\n",
        "arr1.size"
      ]
    },
    {
      "cell_type": "code",
      "execution_count": 66,
      "id": "9bde7ad6-c2de-4d37-ab4b-d1fa10cf2121",
      "metadata": {
        "colab": {
          "base_uri": "https://localhost:8080/"
        },
        "id": "9bde7ad6-c2de-4d37-ab4b-d1fa10cf2121",
        "outputId": "b791e3c7-0539-4b42-c1a0-8ade9673b7d9"
      },
      "outputs": [
        {
          "output_type": "execute_result",
          "data": {
            "text/plain": [
              "dtype('int64')"
            ]
          },
          "metadata": {},
          "execution_count": 66
        }
      ],
      "source": [
        "#Returs the data type of the array\n",
        "arr1.dtype"
      ]
    },
    {
      "cell_type": "code",
      "execution_count": 67,
      "id": "0d01abfe-5d12-4805-b65d-94e88d54f0da",
      "metadata": {
        "colab": {
          "base_uri": "https://localhost:8080/"
        },
        "id": "0d01abfe-5d12-4805-b65d-94e88d54f0da",
        "outputId": "a1b866e2-5fe6-452b-c701-aa7014cf1430"
      },
      "outputs": [
        {
          "output_type": "execute_result",
          "data": {
            "text/plain": [
              "8"
            ]
          },
          "metadata": {},
          "execution_count": 67
        }
      ],
      "source": [
        "#Return the size of each element in the array\n",
        "arr1.itemsize"
      ]
    },
    {
      "cell_type": "code",
      "execution_count": 68,
      "id": "7a430a95-c265-4dc0-9862-8c9ba0e2a675",
      "metadata": {
        "colab": {
          "base_uri": "https://localhost:8080/"
        },
        "id": "7a430a95-c265-4dc0-9862-8c9ba0e2a675",
        "outputId": "a1c77d32-2623-4f32-9bb2-fb8028ae309e"
      },
      "outputs": [
        {
          "output_type": "execute_result",
          "data": {
            "text/plain": [
              "32"
            ]
          },
          "metadata": {},
          "execution_count": 68
        }
      ],
      "source": [
        "#return the total number of bytes for all elements in the array\n",
        "arr1.nbytes"
      ]
    },
    {
      "cell_type": "markdown",
      "id": "0073e913-2f5a-414a-b253-6f6e8b8bbe4e",
      "metadata": {
        "id": "0073e913-2f5a-414a-b253-6f6e8b8bbe4e"
      },
      "source": [
        "Data manipulation"
      ]
    },
    {
      "cell_type": "code",
      "execution_count": 69,
      "id": "b7671d13-7552-4dcf-9208-5efc41d20c30",
      "metadata": {
        "colab": {
          "base_uri": "https://localhost:8080/"
        },
        "id": "b7671d13-7552-4dcf-9208-5efc41d20c30",
        "outputId": "a5ae0171-5c44-4d08-a5ef-ef2b7b0f0a7f"
      },
      "outputs": [
        {
          "output_type": "execute_result",
          "data": {
            "text/plain": [
              "1"
            ]
          },
          "metadata": {},
          "execution_count": 69
        }
      ],
      "source": [
        "#indexing\n",
        "arr1[2]"
      ]
    },
    {
      "cell_type": "code",
      "execution_count": 13,
      "id": "f7c7ab87-8817-4821-b813-a5aa22f632fe",
      "metadata": {
        "id": "f7c7ab87-8817-4821-b813-a5aa22f632fe"
      },
      "outputs": [],
      "source": [
        "#Slicing"
      ]
    },
    {
      "cell_type": "code",
      "execution_count": 45,
      "id": "e842fbf8-b71c-4e67-9fae-f1a16ecafe4e",
      "metadata": {
        "colab": {
          "base_uri": "https://localhost:8080/"
        },
        "id": "e842fbf8-b71c-4e67-9fae-f1a16ecafe4e",
        "outputId": "7c54ae5d-3f5e-4803-934f-0daaee57a6bf"
      },
      "outputs": [
        {
          "output_type": "execute_result",
          "data": {
            "text/plain": [
              "array([ 7, 41])"
            ]
          },
          "metadata": {},
          "execution_count": 45
        }
      ],
      "source": [
        "arr1[1:3]"
      ]
    },
    {
      "cell_type": "code",
      "execution_count": 46,
      "id": "f8f5e4e6-153d-4e29-9aeb-c94a5f74be25",
      "metadata": {
        "colab": {
          "base_uri": "https://localhost:8080/"
        },
        "id": "f8f5e4e6-153d-4e29-9aeb-c94a5f74be25",
        "outputId": "889decdf-ee8b-4840-8282-471c59504cac"
      },
      "outputs": [
        {
          "output_type": "execute_result",
          "data": {
            "text/plain": [
              "array([42, 32, 21, 11])"
            ]
          },
          "metadata": {},
          "execution_count": 46
        }
      ],
      "source": [
        "arr2[1:5]"
      ]
    },
    {
      "cell_type": "code",
      "execution_count": 47,
      "id": "8cf1df6b-9b59-4c7d-baec-754444617b28",
      "metadata": {
        "id": "8cf1df6b-9b59-4c7d-baec-754444617b28"
      },
      "outputs": [],
      "source": [
        "#Creating a 2d array using replalce\n",
        "arr2d=np.arange(0,20,2).reshape(2,5)"
      ]
    },
    {
      "cell_type": "code",
      "execution_count": 48,
      "id": "70ffddb5-c846-43d2-8189-98fca1d53041",
      "metadata": {
        "colab": {
          "base_uri": "https://localhost:8080/"
        },
        "id": "70ffddb5-c846-43d2-8189-98fca1d53041",
        "outputId": "5df0c643-70ac-43f9-de0a-2218afad13a1"
      },
      "outputs": [
        {
          "output_type": "execute_result",
          "data": {
            "text/plain": [
              "array([[ 0,  2,  4,  6,  8],\n",
              "       [10, 12, 14, 16, 18]])"
            ]
          },
          "metadata": {},
          "execution_count": 48
        }
      ],
      "source": [
        "arr2d"
      ]
    },
    {
      "cell_type": "code",
      "execution_count": 49,
      "id": "2197787b-1bce-42f0-a9f7-da01d2a0fefa",
      "metadata": {
        "colab": {
          "base_uri": "https://localhost:8080/"
        },
        "id": "2197787b-1bce-42f0-a9f7-da01d2a0fefa",
        "outputId": "fe39944a-e3cb-4f9d-8457-dca843e5b559"
      },
      "outputs": [
        {
          "output_type": "execute_result",
          "data": {
            "text/plain": [
              "array([[ 0,  2,  4,  6,  8],\n",
              "       [10, 12, 14, 16, 18]])"
            ]
          },
          "metadata": {},
          "execution_count": 49
        }
      ],
      "source": [
        "#indexing a 2d array the : left side represents the rows and right side represents the columns\n",
        "arr2d[:2]"
      ]
    },
    {
      "cell_type": "code",
      "execution_count": 50,
      "id": "8a59be91-b6e3-475e-9e7b-101ef82b8b41",
      "metadata": {
        "id": "8a59be91-b6e3-475e-9e7b-101ef82b8b41"
      },
      "outputs": [],
      "source": [
        "arr2d1=np.arange(0,40,4).reshape(2,5)"
      ]
    },
    {
      "cell_type": "code",
      "execution_count": 51,
      "id": "c869dae4-d15c-4a7d-bebf-41c20adff7bf",
      "metadata": {
        "colab": {
          "base_uri": "https://localhost:8080/"
        },
        "id": "c869dae4-d15c-4a7d-bebf-41c20adff7bf",
        "outputId": "ddcdb0a5-e83c-44ee-e719-bf2100ce5e75"
      },
      "outputs": [
        {
          "output_type": "execute_result",
          "data": {
            "text/plain": [
              "array([[ 0,  4,  8, 12, 16],\n",
              "       [20, 24, 28, 32, 36]])"
            ]
          },
          "metadata": {},
          "execution_count": 51
        }
      ],
      "source": [
        "arr2d1"
      ]
    },
    {
      "cell_type": "code",
      "execution_count": 52,
      "id": "dc4fc12c-bc1b-45df-9eb5-1020115aea8f",
      "metadata": {
        "id": "dc4fc12c-bc1b-45df-9eb5-1020115aea8f"
      },
      "outputs": [],
      "source": [
        "T_arr=arr2d1.T"
      ]
    },
    {
      "cell_type": "markdown",
      "id": "ad7b573c-53fb-425b-b5f3-03abb86af214",
      "metadata": {
        "id": "ad7b573c-53fb-425b-b5f3-03abb86af214"
      },
      "source": [
        "Mathematical Operations"
      ]
    },
    {
      "cell_type": "code",
      "execution_count": 70,
      "id": "00c00f90-11dd-43ab-b9f9-57d05b0fbdd8",
      "metadata": {
        "colab": {
          "base_uri": "https://localhost:8080/"
        },
        "id": "00c00f90-11dd-43ab-b9f9-57d05b0fbdd8",
        "outputId": "7c7ed8dd-e2eb-4719-cb56-429ad8d63c36"
      },
      "outputs": [
        {
          "output_type": "execute_result",
          "data": {
            "text/plain": [
              "array([79, 50, 14, 28])"
            ]
          },
          "metadata": {},
          "execution_count": 70
        }
      ],
      "source": [
        "#Addition\n",
        "arr1+arr2"
      ]
    },
    {
      "cell_type": "code",
      "execution_count": 71,
      "id": "51dba4ca-558e-4657-b01a-059431067d20",
      "metadata": {
        "colab": {
          "base_uri": "https://localhost:8080/"
        },
        "id": "51dba4ca-558e-4657-b01a-059431067d20",
        "outputId": "71da6b37-d995-4129-b317-0e8b9be31cff"
      },
      "outputs": [
        {
          "output_type": "execute_result",
          "data": {
            "text/plain": [
              "array([-15,  -2,  12,  22])"
            ]
          },
          "metadata": {},
          "execution_count": 71
        }
      ],
      "source": [
        "#Subtraction\n",
        "arr2-arr1"
      ]
    },
    {
      "cell_type": "code",
      "execution_count": 72,
      "id": "9f7a8572-bbbc-45fe-bae8-f00921f50761",
      "metadata": {
        "colab": {
          "base_uri": "https://localhost:8080/"
        },
        "id": "9f7a8572-bbbc-45fe-bae8-f00921f50761",
        "outputId": "ad4118cc-de25-4797-e1b0-0b24b5ca8104"
      },
      "outputs": [
        {
          "output_type": "execute_result",
          "data": {
            "text/plain": [
              "array([1504,  624,   13,   75])"
            ]
          },
          "metadata": {},
          "execution_count": 72
        }
      ],
      "source": [
        "#multiplication\n",
        "arr1*arr2"
      ]
    },
    {
      "cell_type": "code",
      "execution_count": null,
      "id": "f1be7a65-1ed0-4f91-9679-a57f481d4ac0",
      "metadata": {
        "id": "f1be7a65-1ed0-4f91-9679-a57f481d4ac0",
        "outputId": "14c0b953-09bb-4af0-c92c-8b9658baf236"
      },
      "outputs": [
        {
          "data": {
            "text/plain": [
              "array([ 1.08823529, 10.72      ,  3.30120482,  2.01162791,  0.88235294,\n",
              "       87.        ,  2.78571429,  3.86585366,  0.50847458,  5.4       ])"
            ]
          },
          "execution_count": 28,
          "metadata": {},
          "output_type": "execute_result"
        }
      ],
      "source": [
        "#division\n",
        "arr2/arr1"
      ]
    },
    {
      "cell_type": "code",
      "execution_count": 73,
      "id": "23f014fd-f5c6-4e90-a1d4-6f3e7127c312",
      "metadata": {
        "colab": {
          "base_uri": "https://localhost:8080/"
        },
        "id": "23f014fd-f5c6-4e90-a1d4-6f3e7127c312",
        "outputId": "804516ba-7dde-43c5-f970-1353c825b1ec"
      },
      "outputs": [
        {
          "output_type": "execute_result",
          "data": {
            "text/plain": [
              "array([1024,  576,  169,  625])"
            ]
          },
          "metadata": {},
          "execution_count": 73
        }
      ],
      "source": [
        "arr2 ** 2"
      ]
    },
    {
      "cell_type": "markdown",
      "id": "41be06ee-6025-457d-abfe-b2b6031bffac",
      "metadata": {
        "id": "41be06ee-6025-457d-abfe-b2b6031bffac"
      },
      "source": [
        "Matrix operation"
      ]
    },
    {
      "cell_type": "code",
      "execution_count": 74,
      "id": "c336f82d-5238-4c72-a299-4ab66458d534",
      "metadata": {
        "colab": {
          "base_uri": "https://localhost:8080/"
        },
        "id": "c336f82d-5238-4c72-a299-4ab66458d534",
        "outputId": "11ce7b7f-6ea8-4063-ec11-01ac1f56e162"
      },
      "outputs": [
        {
          "output_type": "execute_result",
          "data": {
            "text/plain": [
              "array([[ 240,  640],\n",
              "       [ 640, 2040]])"
            ]
          },
          "metadata": {},
          "execution_count": 74
        }
      ],
      "source": [
        "#Matrix multiplication (Dot Product)\n",
        "np.dot(arr2d,T_arr)"
      ]
    },
    {
      "cell_type": "code",
      "execution_count": 75,
      "id": "d27028b8-0cd1-4fdf-931d-9ace85f0ef0e",
      "metadata": {
        "colab": {
          "base_uri": "https://localhost:8080/"
        },
        "id": "d27028b8-0cd1-4fdf-931d-9ace85f0ef0e",
        "outputId": "0e22897a-1e16-4dc7-c869-a7cc32676778"
      },
      "outputs": [
        {
          "output_type": "execute_result",
          "data": {
            "text/plain": [
              "array([[  0,   8,  32,  72, 128],\n",
              "       [200, 288, 392, 512, 648]])"
            ]
          },
          "metadata": {},
          "execution_count": 75
        }
      ],
      "source": [
        "#Matrix Multiplication\n",
        "arr2d*arr2d1"
      ]
    },
    {
      "cell_type": "code",
      "execution_count": 76,
      "id": "49a21407-bdad-477b-a388-a821fb8dafa8",
      "metadata": {
        "colab": {
          "base_uri": "https://localhost:8080/"
        },
        "id": "49a21407-bdad-477b-a388-a821fb8dafa8",
        "outputId": "7e393bd0-64b2-4cda-9522-3e59ec7d08e1"
      },
      "outputs": [
        {
          "output_type": "execute_result",
          "data": {
            "text/plain": [
              "array([[ 0,  6, 12, 18, 24],\n",
              "       [30, 36, 42, 48, 54]])"
            ]
          },
          "metadata": {},
          "execution_count": 76
        }
      ],
      "source": [
        "#Matrix Additio\n",
        "arr2d+arr2d1"
      ]
    },
    {
      "cell_type": "code",
      "execution_count": 77,
      "id": "2d9b5be5-a8d2-4a3d-ba54-ec7bfdbc843a",
      "metadata": {
        "colab": {
          "base_uri": "https://localhost:8080/"
        },
        "id": "2d9b5be5-a8d2-4a3d-ba54-ec7bfdbc843a",
        "outputId": "c5431598-d19e-4121-882e-c82084472202"
      },
      "outputs": [
        {
          "output_type": "execute_result",
          "data": {
            "text/plain": [
              "array([[ 0,  2,  4,  6,  8],\n",
              "       [10, 12, 14, 16, 18]])"
            ]
          },
          "metadata": {},
          "execution_count": 77
        }
      ],
      "source": [
        "#Matrix Subtraction\n",
        "arr2d1-arr2d"
      ]
    },
    {
      "cell_type": "code",
      "execution_count": 78,
      "id": "7b21968e-6467-4836-b8b2-afa31bc986d3",
      "metadata": {
        "colab": {
          "base_uri": "https://localhost:8080/"
        },
        "id": "7b21968e-6467-4836-b8b2-afa31bc986d3",
        "outputId": "2aacb94a-c05f-4715-c8a3-ec9a21997dfc"
      },
      "outputs": [
        {
          "output_type": "stream",
          "name": "stderr",
          "text": [
            "<ipython-input-78-31678e20479f>:2: RuntimeWarning: invalid value encountered in divide\n",
            "  arr2d1/arr2d\n"
          ]
        },
        {
          "output_type": "execute_result",
          "data": {
            "text/plain": [
              "array([[nan,  2.,  2.,  2.,  2.],\n",
              "       [ 2.,  2.,  2.,  2.,  2.]])"
            ]
          },
          "metadata": {},
          "execution_count": 78
        }
      ],
      "source": [
        "#Matrix Division\n",
        "arr2d1/arr2d"
      ]
    },
    {
      "cell_type": "markdown",
      "id": "f78a6d5a-e890-4ac7-ae95-a9dd39f3cbc8",
      "metadata": {
        "id": "f78a6d5a-e890-4ac7-ae95-a9dd39f3cbc8"
      },
      "source": [
        "Numpy Aggregation Functions"
      ]
    },
    {
      "cell_type": "code",
      "execution_count": 84,
      "id": "6e0011d9-7dc3-4ec8-a6cf-f35f316427af",
      "metadata": {
        "colab": {
          "base_uri": "https://localhost:8080/"
        },
        "id": "6e0011d9-7dc3-4ec8-a6cf-f35f316427af",
        "outputId": "c8a2d1d3-e852-46b2-e678-4523d3c878a4"
      },
      "outputs": [
        {
          "output_type": "stream",
          "name": "stdout",
          "text": [
            "Sum of all elements in the array\n",
            "77\n",
            "Sum along the 0th axis\n",
            "[10 14 18 22 26]\n",
            "Sum along the 1st axis\n",
            "[20 70]\n"
          ]
        }
      ],
      "source": [
        "#Sum function in numpy arrays\n",
        "print(\"Sum of all elements in the array\")\n",
        "print(np.sum(arr1))\n",
        "#Sum along the axis\n",
        "print(\"Sum along the 0th axis\")\n",
        "print(np.sum(arr2d,axis=0))\n",
        "print(\"Sum along the 1st axis\")\n",
        "print(np.sum(arr2d,axis=1))"
      ]
    },
    {
      "cell_type": "code",
      "execution_count": 85,
      "id": "ed5ff02b-7aac-498c-9ca0-337a420e608b",
      "metadata": {
        "colab": {
          "base_uri": "https://localhost:8080/"
        },
        "id": "ed5ff02b-7aac-498c-9ca0-337a420e608b",
        "outputId": "f82e0fd7-5fe1-4d93-d0b8-f3a841380a35"
      },
      "outputs": [
        {
          "output_type": "stream",
          "name": "stdout",
          "text": [
            "Min value of the array\n",
            "1\n",
            "Max value of the array\n",
            "47\n"
          ]
        }
      ],
      "source": [
        "#Min value in the array\n",
        "print(\"Min value of the array\")\n",
        "print(np.min(arr1))\n",
        "#Max value of the array\n",
        "print(\"Max value of the array\")\n",
        "print(np.max(arr1))\n"
      ]
    },
    {
      "cell_type": "code",
      "execution_count": 86,
      "id": "1c76cc0c-ebbb-474f-9cc5-a1fb24655a62",
      "metadata": {
        "colab": {
          "base_uri": "https://localhost:8080/"
        },
        "id": "1c76cc0c-ebbb-474f-9cc5-a1fb24655a62",
        "outputId": "aafbe5af-4a52-4abe-d451-0e0a9256768c"
      },
      "outputs": [
        {
          "output_type": "stream",
          "name": "stdout",
          "text": [
            "Mean value of the array\n",
            "19.25\n"
          ]
        }
      ],
      "source": [
        "#Mean of the array\n",
        "print(\"Mean value of the array\")\n",
        "print(np.mean(arr1))\n"
      ]
    },
    {
      "cell_type": "code",
      "execution_count": 87,
      "id": "1f26907f-15a1-4cd1-967f-ba7d1cd7ba27",
      "metadata": {
        "colab": {
          "base_uri": "https://localhost:8080/"
        },
        "id": "1f26907f-15a1-4cd1-967f-ba7d1cd7ba27",
        "outputId": "09a83185-dc5d-407f-a89b-f6d8228df294"
      },
      "outputs": [
        {
          "output_type": "stream",
          "name": "stdout",
          "text": [
            "Median value of the array\n",
            "14.5\n"
          ]
        }
      ],
      "source": [
        "#Median of the array\n",
        "print(\"Median value of the array\")\n",
        "print(np.median(arr1))"
      ]
    }
  ],
  "metadata": {
    "kernelspec": {
      "display_name": "Python 3 (ipykernel)",
      "language": "python",
      "name": "python3"
    },
    "language_info": {
      "codemirror_mode": {
        "name": "ipython",
        "version": 3
      },
      "file_extension": ".py",
      "mimetype": "text/x-python",
      "name": "python",
      "nbconvert_exporter": "python",
      "pygments_lexer": "ipython3",
      "version": "3.12.4"
    },
    "colab": {
      "provenance": []
    }
  },
  "nbformat": 4,
  "nbformat_minor": 5
}